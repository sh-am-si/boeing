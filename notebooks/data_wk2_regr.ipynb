{
 "cells": [
  {
   "cell_type": "code",
   "execution_count": null,
   "metadata": {},
   "outputs": [],
   "source": [
    "import numpy as np\n",
    "import pandas as pd\n",
    "import matplotlib.pylab as plt\n",
    "%matplotlib inline\n",
    "\n",
    "import seaborn as sns\n",
    "sns.set(style=\"ticks\", color_codes=True)"
   ]
  },
  {
   "cell_type": "code",
   "execution_count": null,
   "metadata": {},
   "outputs": [],
   "source": [
    "from collections import Counter\n",
    "\n",
    "from sklearn.tree import DecisionTreeRegressor\n",
    "\n",
    "from sklearn.feature_extraction.text import CountVectorizer\n",
    "from sklearn.feature_extraction.text import TfidfTransformer\n",
    "from sklearn.naive_bayes import MultinomialNB\n",
    "\n",
    "from sklearn.ensemble import RandomForestClassifier\n",
    "from sklearn.preprocessing import OneHotEncoder, StandardScaler, OrdinalEncoder\n",
    "from sklearn.model_selection import GridSearchCV\n",
    "\n",
    "from sklearn.metrics import confusion_matrix, make_scorer, accuracy_score, precision_score, recall_score, f1_score\n",
    "\n",
    "\n",
    "from sklearn.model_selection import StratifiedKFold, KFold, cross_val_score\n",
    "from sklearn.base import clone"
   ]
  },
  {
   "cell_type": "code",
   "execution_count": null,
   "metadata": {},
   "outputs": [],
   "source": [
    "df = pd.read_csv('../Test_Dataset/Training_DataSet.csv', header=0)\n",
    "df.head()"
   ]
  },
  {
   "cell_type": "code",
   "execution_count": null,
   "metadata": {},
   "outputs": [],
   "source": [
    "df_wk2 = df[df['VehModel'] == 'Grand Cherokee']\n",
    "df_wk2.shape"
   ]
  },
  {
   "cell_type": "code",
   "execution_count": null,
   "metadata": {},
   "outputs": [],
   "source": [
    "for name in df_wk2.columns:\n",
    "    vc = df_wk2[name].value_counts()\n",
    "    if vc.shape[0] < 5:\n",
    "        print('\\n')\n",
    "        print(vc)\n"
   ]
  },
  {
   "cell_type": "code",
   "execution_count": null,
   "metadata": {},
   "outputs": [],
   "source": [
    "# 'ListingID', \n",
    "df_wk2.drop(columns=['SellerIsPriv', 'VehType', 'VehBodystyle', 'VehFuel', 'VehMake', 'VehModel'], inplace=True)\n",
    "df_wk2.head()"
   ]
  },
  {
   "cell_type": "code",
   "execution_count": null,
   "metadata": {},
   "outputs": [],
   "source": [
    "df_wk2.drop(columns=['SellerIsPriv', 'VehTransmission', 'VehEngine'], inplace=True) # XT5\n",
    "# 'VehTransmission', 'VehEngine' as in US there is only one option\n",
    "df_wk2.head()"
   ]
  },
  {
   "cell_type": "code",
   "execution_count": null,
   "metadata": {},
   "outputs": [],
   "source": [
    "df_wk2.isna().sum(axis=0)"
   ]
  },
  {
   "cell_type": "code",
   "execution_count": null,
   "metadata": {},
   "outputs": [],
   "source": [
    "df_wk2.drop(columns=['VehColorInt'], inplace=True) # nan-cleaning\n",
    "df_wk2.head()"
   ]
  },
  {
   "cell_type": "code",
   "execution_count": null,
   "metadata": {},
   "outputs": [],
   "source": [
    "nan_indices = df_wk2.isna().sum(axis=1).sort_values(ascending=False)\n",
    "nan_indices[nan_indices > 0].value_counts()"
   ]
  },
  {
   "cell_type": "code",
   "execution_count": null,
   "metadata": {},
   "outputs": [],
   "source": [
    "nan_indices[nan_indices > 0].shape"
   ]
  },
  {
   "cell_type": "code",
   "execution_count": null,
   "metadata": {},
   "outputs": [],
   "source": [
    "ndf_wk2 = df_wk2[nan_indices == 0]\n",
    "ndf_wk2.shape"
   ]
  },
  {
   "cell_type": "code",
   "execution_count": null,
   "metadata": {},
   "outputs": [],
   "source": [
    "ndf_wk2.describe()"
   ]
  },
  {
   "cell_type": "code",
   "execution_count": null,
   "metadata": {},
   "outputs": [],
   "source": [
    "ndf_wk2['VehYear'].value_counts()"
   ]
  },
  {
   "cell_type": "code",
   "execution_count": null,
   "metadata": {},
   "outputs": [],
   "source": [
    "ndf_wk2['SellerZip'].unique().shape"
   ]
  },
  {
   "cell_type": "code",
   "execution_count": null,
   "metadata": {},
   "outputs": [],
   "source": [
    "ndf_wk2['VehDriveTrain'].value_counts()"
   ]
  },
  {
   "cell_type": "code",
   "execution_count": null,
   "metadata": {},
   "outputs": [],
   "source": [
    "ndf_wk2['VehHistory'].value_counts()"
   ]
  },
  {
   "cell_type": "code",
   "execution_count": null,
   "metadata": {},
   "outputs": [],
   "source": [
    "history_lst = []\n",
    "for hist in  ndf_wk2['VehHistory']:\n",
    "    print(hist, type(hist))\n",
    "    if isinstance(hist, str):\n",
    "        history_lst.extend(hist.split(', '))"
   ]
  },
  {
   "cell_type": "code",
   "execution_count": null,
   "metadata": {},
   "outputs": [],
   "source": [
    "Counter(history_lst).most_common(12)"
   ]
  },
  {
   "cell_type": "code",
   "execution_count": null,
   "metadata": {},
   "outputs": [],
   "source": [
    "ndf_wk2['VehPriceLabel'].value_counts()"
   ]
  },
  {
   "cell_type": "code",
   "execution_count": null,
   "metadata": {},
   "outputs": [],
   "source": [
    "ndf_wk2['VehSellerNotes'][:5]"
   ]
  },
  {
   "cell_type": "code",
   "execution_count": null,
   "metadata": {},
   "outputs": [],
   "source": [
    "ndf_wk2.columns"
   ]
  },
  {
   "cell_type": "code",
   "execution_count": null,
   "metadata": {},
   "outputs": [],
   "source": [
    "ndf_wk2['VehYear'].value_counts()"
   ]
  },
  {
   "cell_type": "code",
   "execution_count": null,
   "metadata": {},
   "outputs": [],
   "source": [
    "ndf_wk2['Vehicle_Trim'].value_counts()"
   ]
  },
  {
   "cell_type": "code",
   "execution_count": null,
   "metadata": {},
   "outputs": [],
   "source": [
    "cont_cols = ['SellerRating', 'SellerRevCnt', 'VehListdays', 'VehMileage']\n",
    "cont_cols"
   ]
  },
  {
   "cell_type": "code",
   "execution_count": null,
   "metadata": {},
   "outputs": [],
   "source": [
    "fig, axs = plt.subplots(\n",
    "    ncols=len(cont_cols), \n",
    "    nrows=len(cont_cols), \n",
    "    figsize=(25, 25)\n",
    ")\n",
    "for i in range(len(cont_cols)):\n",
    "    for j in range(i+1):\n",
    "        if i == j:\n",
    "            sns.histplot(\n",
    "                data=ndf_wk2, \n",
    "                x=cont_cols[i],\n",
    "                bins=50, \n",
    "                ax=axs[i][i]\n",
    "                )\n",
    "        else:\n",
    "            sns.scatterplot(\n",
    "                data=ndf_wk2,\n",
    "                x=cont_cols[i], \n",
    "                y=cont_cols[j], \n",
    "                hue=\"Dealer_Listing_Price\", \n",
    "                # palette='dark',\n",
    "                legend=True, \n",
    "                ax=axs[i][j]\n",
    "                )"
   ]
  },
  {
   "cell_type": "code",
   "execution_count": null,
   "metadata": {},
   "outputs": [],
   "source": [
    "cont_cols = ['SellerRating', 'SellerRevCnt', 'VehListdays', 'VehMileage', \"Dealer_Listing_Price\"]\n",
    "fig, axs = plt.subplots(ncols=len(cont_cols), nrows=len(cont_cols), figsize=(25,25))\n",
    "for i in range(len(cont_cols)):\n",
    "    for j in range(i+1):\n",
    "        if i == j:\n",
    "            sns.histplot(\n",
    "                data=ndf_wk2, \n",
    "                x=cont_cols[i], \n",
    "                hue=\"VehPriceLabel\", \n",
    "                palette=sns.color_palette(\"tab10\", 3),  \n",
    "                bins=50, \n",
    "                ax=axs[i][i]\n",
    "                )\n",
    "        else:\n",
    "            sns.scatterplot(\n",
    "                data=ndf_wk2,\n",
    "                x=cont_cols[i], \n",
    "                y=cont_cols[j], \n",
    "                hue=\"VehPriceLabel\", \n",
    "                palette=sns.color_palette(\"tab10\", 3),\n",
    "                legend=True, \n",
    "                ax=axs[i][j]\n",
    "                )"
   ]
  },
  {
   "cell_type": "code",
   "execution_count": null,
   "metadata": {},
   "outputs": [],
   "source": [
    "df_wk2[\"VehCertified\"].value_counts()"
   ]
  },
  {
   "cell_type": "code",
   "execution_count": null,
   "metadata": {},
   "outputs": [],
   "source": [
    "cont_cols = ['SellerRating', 'SellerRevCnt', 'VehListdays', 'VehMileage', \"Dealer_Listing_Price\"]\n",
    "fig, axs = plt.subplots(ncols=len(cont_cols), nrows=len(cont_cols), figsize=(25,25))\n",
    "for i in range(len(cont_cols)):\n",
    "    for j in range(i+1):\n",
    "        if i == j:\n",
    "            sns.histplot(\n",
    "                data=ndf_wk2,\n",
    "                x=cont_cols[i],\n",
    "                hue=\"VehCertified\", \n",
    "                palette=sns.color_palette(\"tab10\", 2),\n",
    "                bins=20,\n",
    "                ax=axs[i][i]\n",
    "                )\n",
    "        else:\n",
    "            sns.scatterplot(\n",
    "                data=ndf_wk2,\n",
    "                x=cont_cols[i], \n",
    "                y=cont_cols[j], \n",
    "                hue=\"VehCertified\", \n",
    "                palette=sns.color_palette(\"tab10\", 2),\n",
    "                legend=True, \n",
    "                ax=axs[i][j]\n",
    "                )"
   ]
  },
  {
   "cell_type": "code",
   "execution_count": null,
   "metadata": {},
   "outputs": [],
   "source": [
    "ndf_wk2[\"VehYear\"].value_counts()"
   ]
  },
  {
   "cell_type": "code",
   "execution_count": null,
   "metadata": {},
   "outputs": [],
   "source": [
    "cont_cols = ['SellerRating', 'SellerRevCnt', 'VehListdays', 'VehMileage', \"Dealer_Listing_Price\"]\n",
    "fig, axs = plt.subplots(ncols=len(cont_cols), nrows=len(cont_cols), figsize=(25,25))\n",
    "for i in range(len(cont_cols)):\n",
    "    for j in range(i+1):\n",
    "        if i == j:\n",
    "            sns.histplot(\n",
    "                data=ndf_wk2, \n",
    "                x=cont_cols[i], \n",
    "                hue=\"VehYear\", \n",
    "                palette=sns.color_palette(\"tab10\", 5),  \n",
    "                bins=50, \n",
    "                ax=axs[i][i]\n",
    "                )\n",
    "        else:\n",
    "            sns.scatterplot(\n",
    "                data=ndf_wk2,\n",
    "                x=cont_cols[i], \n",
    "                y=cont_cols[j], \n",
    "                hue=\"VehYear\", \n",
    "                palette=sns.color_palette(\"tab10\", 5),\n",
    "                legend=True, \n",
    "                ax=axs[i][j]\n",
    "                )"
   ]
  },
  {
   "cell_type": "code",
   "execution_count": null,
   "metadata": {},
   "outputs": [],
   "source": [
    "ndf_wk2[\"VehFuel\"].value_counts()"
   ]
  },
  {
   "cell_type": "code",
   "execution_count": null,
   "metadata": {},
   "outputs": [],
   "source": [
    "cont_cols = ['SellerRating', 'SellerRevCnt', 'VehListdays', 'VehMileage', \"Dealer_Listing_Price\"]\n",
    "fig, axs = plt.subplots(ncols=len(cont_cols), nrows=len(cont_cols), figsize=(25,25))\n",
    "for i in range(len(cont_cols)):\n",
    "    for j in range(i+1):\n",
    "        if i == j:\n",
    "            sns.histplot(\n",
    "                data=ndf_wk2, \n",
    "                x=cont_cols[i], \n",
    "                hue=\"VehFuel\", \n",
    "                palette=sns.color_palette(\"tab10\", 5),  \n",
    "                bins=50, \n",
    "                ax=axs[i][i]\n",
    "                )\n",
    "        else:\n",
    "            sns.scatterplot(\n",
    "                data=ndf_wk2,\n",
    "                x=cont_cols[i], \n",
    "                y=cont_cols[j], \n",
    "                hue=\"VehYear\", \n",
    "                palette=sns.color_palette(\"tab10\", 5),\n",
    "                legend=True, \n",
    "                ax=axs[i][j]\n",
    "                )"
   ]
  },
  {
   "cell_type": "code",
   "execution_count": null,
   "metadata": {},
   "outputs": [],
   "source": [
    "cont_cols = ['SellerRating', 'SellerRevCnt', 'VehListdays', 'VehMileage', \"Dealer_Listing_Price\"]\n",
    "ndf_wk2[cont_cols].corr()"
   ]
  },
  {
   "cell_type": "code",
   "execution_count": null,
   "metadata": {},
   "outputs": [],
   "source": [
    "_ind = np.random.permutation(ndf_wk2.shape[0])\n",
    "_n = int(0.9 * ndf_wk2.shape[0])\n",
    "train_index, test_index = _ind[:_n], _ind[_n:]\n",
    "train_index.shape, test_index.shape"
   ]
  },
  {
   "cell_type": "code",
   "execution_count": null,
   "metadata": {},
   "outputs": [],
   "source": [
    "trim_df = pd.DataFrame()\n",
    "trim_df['VehFeats'] = ndf_wk2['VehFeats'].map(lambda x: ' '.join([_x[1:-1] for _x in x[1:-1].split(', ')]))\n",
    "trim_df['VehSellerNotes'] = ndf_wk2['VehSellerNotes']\n",
    "trim_df['VehColorExt'] = ndf_wk2['VehColorExt']\n",
    "trim_df['VehDriveTrain'] = ndf_wk2['VehDriveTrain']\n",
    "\n",
    "trim_df['y'] = OrdinalEncoder().fit_transform(ndf_wk2[['Vehicle_Trim']])\n",
    "trim_df['y'].value_counts()\n"
   ]
  },
  {
   "cell_type": "code",
   "execution_count": null,
   "metadata": {},
   "outputs": [],
   "source": [
    "from itertools import chain, combinations\n",
    "col_names = ['VehFeats', 'VehSellerNotes', 'VehColorExt', 'VehDriveTrain']\n",
    "\n",
    "for cols in chain.from_iterable(combinations(col_names, r) for r in range(1, len(col_names)+1)):\n",
    "    print(cols)\n",
    "    trim_df['data'] = ''\n",
    "    for col in cols:\n",
    "        trim_df['data'] += trim_df[col] + ' '\n",
    "\n",
    "    train_df = trim_df.iloc[train_index]\n",
    "\n",
    "    count_vector = CountVectorizer()\n",
    "    tfidf_transformer = TfidfTransformer()\n",
    "    train_counts = count_vector.fit_transform(train_df['data'])\n",
    "    train_tfidf = tfidf_transformer.fit_transform(train_counts)\n",
    "\n",
    "    clf = MultinomialNB().fit(train_tfidf, train_df['y'])\n",
    "\n",
    "    test_counts = count_vector.transform(trim_df.iloc[test_index]['data'])\n",
    "    test_tfidf = tfidf_transformer.transform(test_counts)\n",
    "    y_pred = clf.predict(test_tfidf)\n",
    "\n",
    "    print(confusion_matrix(y_pred, trim_df.iloc[test_index]['y']))\n"
   ]
  },
  {
   "cell_type": "code",
   "execution_count": null,
   "metadata": {},
   "outputs": [],
   "source": [
    "history_set = set(history_lst)\n",
    "len(history_lst), len(history_set)"
   ]
  },
  {
   "cell_type": "code",
   "execution_count": null,
   "metadata": {},
   "outputs": [],
   "source": [
    "df_hist = pd.DataFrame(\n",
    "    data=np.zeros(\n",
    "        shape=(ndf_wk2.shape[0], len(history_set)),\n",
    "        dtype=np.int_\n",
    "        ),\n",
    "    columns=[f\"history_{h}\" for h in history_set],\n",
    "    index=ndf_wk2.index\n",
    "    )\n",
    "df_hist.head()"
   ]
  },
  {
   "cell_type": "code",
   "execution_count": null,
   "metadata": {},
   "outputs": [],
   "source": [
    "for ind in ndf_wk2.index:\n",
    "    hist = ndf_wk2.at[ind, 'VehHistory']\n",
    "    for h in history_set:\n",
    "        if h in hist:\n",
    "            df_hist.at[ind, f\"history_{h}\"] = 1\n",
    "\n",
    "df_hist.head()    "
   ]
  },
  {
   "cell_type": "code",
   "execution_count": null,
   "metadata": {},
   "outputs": [],
   "source": [
    "cats = [\"SellerState\", \"VehYear\", 'VehPriceLabel', \"Vehicle_Trim\"]\n",
    "enc = OneHotEncoder(handle_unknown='ignore', )\n",
    "enc.fit(ndf_wk2[cats])\n",
    "df_ohe = pd.DataFrame(\n",
    "    data=enc.fit_transform(ndf_wk2[cats]).toarray(),\n",
    "    index=ndf_wk2.index,\n",
    "    columns=enc.get_feature_names_out()\n",
    ")\n",
    "df_ohe.head()\n"
   ]
  },
  {
   "cell_type": "code",
   "execution_count": null,
   "metadata": {},
   "outputs": [],
   "source": [
    "enc.get_feature_names_out()"
   ]
  },
  {
   "cell_type": "code",
   "execution_count": null,
   "metadata": {},
   "outputs": [],
   "source": [
    "\n",
    "df = pd.concat([ndf_wk2[['SellerRating', 'SellerRevCnt', 'VehListdays', 'VehMileage']], df_ohe, df_hist], axis=1)\n",
    "df.head()\n"
   ]
  },
  {
   "cell_type": "code",
   "execution_count": null,
   "metadata": {},
   "outputs": [],
   "source": [
    "df.shape, df.isna().sum(axis=0).max(), df.isna().sum(axis=1).max()"
   ]
  },
  {
   "cell_type": "code",
   "execution_count": null,
   "metadata": {},
   "outputs": [],
   "source": [
    "_ind = np.random.permutation(df.shape[0])\n",
    "_n = int(0.8 * df.shape[0])\n",
    "train_index, test_index = _ind[:_n], _ind[_n:]\n",
    "train_index.shape, test_index.shape"
   ]
  },
  {
   "cell_type": "code",
   "execution_count": null,
   "metadata": {},
   "outputs": [],
   "source": [
    "params = {\n",
    "    \"criterion\": [\"squared_error\", \"friedman_mse\", \"absolute_error\", \"poisson\"],\n",
    "    \"splitter\": [\"best\", \"random\"],\n",
    "    \"max_depth\": [5, 7, 10, 11, 12, 13, 14,  15, 17],\n",
    "    \"min_samples_leaf\": [2, 3, 5],\n",
    "    \"max_features\": [None, 'sqrt', 'log2', 0.2, 0.4, 0.6, 0.8]\n",
    "}\n",
    "grid = GridSearchCV(\n",
    "    estimator=DecisionTreeRegressor(),\n",
    "    param_grid=params,\n",
    "    cv=3,\n",
    "    error_score='raise'\n",
    "    )\n",
    "\n",
    "grid.fit(X=df.iloc[train_index], y=ndf_wk2.iloc[train_index][\"Dealer_Listing_Price\"])"
   ]
  },
  {
   "cell_type": "code",
   "execution_count": null,
   "metadata": {},
   "outputs": [],
   "source": [
    "grid.best_params_"
   ]
  },
  {
   "cell_type": "code",
   "execution_count": null,
   "metadata": {},
   "outputs": [],
   "source": [
    "grid.best_score_"
   ]
  },
  {
   "cell_type": "code",
   "execution_count": null,
   "metadata": {},
   "outputs": [],
   "source": [
    "from sklearn.tree import plot_tree\n",
    "plot_tree(grid.best_estimator_)"
   ]
  },
  {
   "cell_type": "code",
   "execution_count": null,
   "metadata": {},
   "outputs": [],
   "source": [
    "dir(grid.best_estimator_.tree_)"
   ]
  },
  {
   "cell_type": "code",
   "execution_count": null,
   "metadata": {},
   "outputs": [],
   "source": [
    "for n in grid.best_estimator_.tree_:\n",
    "    print(n)"
   ]
  },
  {
   "cell_type": "code",
   "execution_count": null,
   "metadata": {},
   "outputs": [],
   "source": [
    "y_pred = grid.best_estimator_.predict(df.iloc[test_index])\n",
    "y_pred"
   ]
  },
  {
   "cell_type": "code",
   "execution_count": null,
   "metadata": {},
   "outputs": [],
   "source": [
    "np.max(y_pred - ndf_wk2.iloc[test_index]['Dealer_Listing_Price'])"
   ]
  },
  {
   "cell_type": "code",
   "execution_count": null,
   "metadata": {},
   "outputs": [],
   "source": []
  }
 ],
 "metadata": {
  "kernelspec": {
   "display_name": ".venv",
   "language": "python",
   "name": "python3"
  },
  "language_info": {
   "codemirror_mode": {
    "name": "ipython",
    "version": 3
   },
   "file_extension": ".py",
   "mimetype": "text/x-python",
   "name": "python",
   "nbconvert_exporter": "python",
   "pygments_lexer": "ipython3",
   "version": "3.10.12"
  },
  "orig_nbformat": 4
 },
 "nbformat": 4,
 "nbformat_minor": 2
}
