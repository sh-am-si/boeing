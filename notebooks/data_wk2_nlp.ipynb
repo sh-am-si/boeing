{
 "cells": [
  {
   "cell_type": "code",
   "execution_count": 1,
   "metadata": {},
   "outputs": [],
   "source": [
    "\n",
    "import numpy as np\n",
    "import pandas as pd\n",
    "import matplotlib.pylab as plt\n",
    "%matplotlib inline\n",
    "\n",
    "import seaborn as sns\n",
    "sns.set(style=\"ticks\", color_codes=True)"
   ]
  },
  {
   "cell_type": "code",
   "execution_count": 2,
   "metadata": {},
   "outputs": [],
   "source": [
    "from collections import Counter\n",
    "\n",
    "\n",
    "from sklearn.impute import SimpleImputer\n",
    "from sklearn.tree import DecisionTreeRegressor\n",
    "\n",
    "from sklearn.feature_extraction.text import CountVectorizer\n",
    "from sklearn.feature_extraction.text import TfidfTransformer\n",
    "from sklearn.naive_bayes import MultinomialNB\n",
    "\n",
    "from sklearn.ensemble import RandomForestClassifier\n",
    "from sklearn.preprocessing import OneHotEncoder, StandardScaler, OrdinalEncoder\n",
    "from sklearn.model_selection import GridSearchCV\n",
    "\n",
    "from sklearn.metrics import confusion_matrix, make_scorer, accuracy_score, precision_score, recall_score, f1_score\n",
    "\n",
    "from sklearn.model_selection import StratifiedKFold, KFold, cross_val_score\n",
    "from sklearn.base import clone"
   ]
  },
  {
   "cell_type": "code",
   "execution_count": 3,
   "metadata": {},
   "outputs": [
    {
     "data": {
      "text/html": [
       "<div>\n",
       "<style scoped>\n",
       "    .dataframe tbody tr th:only-of-type {\n",
       "        vertical-align: middle;\n",
       "    }\n",
       "\n",
       "    .dataframe tbody tr th {\n",
       "        vertical-align: top;\n",
       "    }\n",
       "\n",
       "    .dataframe thead th {\n",
       "        text-align: right;\n",
       "    }\n",
       "</style>\n",
       "<table border=\"1\" class=\"dataframe\">\n",
       "  <thead>\n",
       "    <tr style=\"text-align: right;\">\n",
       "      <th></th>\n",
       "      <th>ListingID</th>\n",
       "      <th>SellerCity</th>\n",
       "      <th>SellerIsPriv</th>\n",
       "      <th>SellerListSrc</th>\n",
       "      <th>SellerName</th>\n",
       "      <th>SellerRating</th>\n",
       "      <th>SellerRevCnt</th>\n",
       "      <th>SellerState</th>\n",
       "      <th>SellerZip</th>\n",
       "      <th>VehBodystyle</th>\n",
       "      <th>...</th>\n",
       "      <th>VehMake</th>\n",
       "      <th>VehMileage</th>\n",
       "      <th>VehModel</th>\n",
       "      <th>VehPriceLabel</th>\n",
       "      <th>VehSellerNotes</th>\n",
       "      <th>VehType</th>\n",
       "      <th>VehTransmission</th>\n",
       "      <th>VehYear</th>\n",
       "      <th>Vehicle_Trim</th>\n",
       "      <th>Dealer_Listing_Price</th>\n",
       "    </tr>\n",
       "  </thead>\n",
       "  <tbody>\n",
       "    <tr>\n",
       "      <th>0</th>\n",
       "      <td>3287</td>\n",
       "      <td>Warren</td>\n",
       "      <td>False</td>\n",
       "      <td>Inventory Command Center</td>\n",
       "      <td>Prime Motorz</td>\n",
       "      <td>5.0</td>\n",
       "      <td>32</td>\n",
       "      <td>MI</td>\n",
       "      <td>48091.0</td>\n",
       "      <td>SUV</td>\n",
       "      <td>...</td>\n",
       "      <td>Jeep</td>\n",
       "      <td>39319.0</td>\n",
       "      <td>Grand Cherokee</td>\n",
       "      <td>Fair Price</td>\n",
       "      <td>NaN</td>\n",
       "      <td>Used</td>\n",
       "      <td>Automatic 8-Speed</td>\n",
       "      <td>2015</td>\n",
       "      <td>High Altitude</td>\n",
       "      <td>30990.0</td>\n",
       "    </tr>\n",
       "    <tr>\n",
       "      <th>1</th>\n",
       "      <td>3920</td>\n",
       "      <td>Fargo</td>\n",
       "      <td>False</td>\n",
       "      <td>Cadillac Certified Program</td>\n",
       "      <td>Gateway Chevrolet Cadillac</td>\n",
       "      <td>4.8</td>\n",
       "      <td>1456</td>\n",
       "      <td>ND</td>\n",
       "      <td>58103.0</td>\n",
       "      <td>SUV</td>\n",
       "      <td>...</td>\n",
       "      <td>Cadillac</td>\n",
       "      <td>30352.0</td>\n",
       "      <td>XT5</td>\n",
       "      <td>Good Deal</td>\n",
       "      <td>Come take a look at our great pre-owned invent...</td>\n",
       "      <td>Used</td>\n",
       "      <td>NaN</td>\n",
       "      <td>2017</td>\n",
       "      <td>NaN</td>\n",
       "      <td>34860.0</td>\n",
       "    </tr>\n",
       "    <tr>\n",
       "      <th>2</th>\n",
       "      <td>4777</td>\n",
       "      <td>Waukesha</td>\n",
       "      <td>False</td>\n",
       "      <td>Jeep Certified Program</td>\n",
       "      <td>Wilde Chrysler Jeep Dodge Ram &amp;amp; Subaru</td>\n",
       "      <td>4.8</td>\n",
       "      <td>1405</td>\n",
       "      <td>WI</td>\n",
       "      <td>53186.0</td>\n",
       "      <td>SUV</td>\n",
       "      <td>...</td>\n",
       "      <td>Jeep</td>\n",
       "      <td>38957.0</td>\n",
       "      <td>Grand Cherokee</td>\n",
       "      <td>Good Deal</td>\n",
       "      <td>Backed by a rigorous 125-point inspection by f...</td>\n",
       "      <td>Used</td>\n",
       "      <td>8-Speed Automatic w/OD</td>\n",
       "      <td>2015</td>\n",
       "      <td>Laredo</td>\n",
       "      <td>23249.0</td>\n",
       "    </tr>\n",
       "    <tr>\n",
       "      <th>3</th>\n",
       "      <td>6242</td>\n",
       "      <td>Wentzville</td>\n",
       "      <td>False</td>\n",
       "      <td>Inventory Command Center</td>\n",
       "      <td>Century Dodge Chrysler Jeep RAM</td>\n",
       "      <td>4.4</td>\n",
       "      <td>21</td>\n",
       "      <td>MO</td>\n",
       "      <td>63385.0</td>\n",
       "      <td>SUV</td>\n",
       "      <td>...</td>\n",
       "      <td>Jeep</td>\n",
       "      <td>20404.0</td>\n",
       "      <td>Grand Cherokee</td>\n",
       "      <td>Good Deal</td>\n",
       "      <td>Drop by to see us and you will quickly see how...</td>\n",
       "      <td>Used</td>\n",
       "      <td>Automatic</td>\n",
       "      <td>2018</td>\n",
       "      <td>Limited</td>\n",
       "      <td>31977.0</td>\n",
       "    </tr>\n",
       "    <tr>\n",
       "      <th>4</th>\n",
       "      <td>7108</td>\n",
       "      <td>Fayetteville</td>\n",
       "      <td>False</td>\n",
       "      <td>HomeNet Automotive</td>\n",
       "      <td>Superior Buick GMC of Fayetteville</td>\n",
       "      <td>3.7</td>\n",
       "      <td>74</td>\n",
       "      <td>AR</td>\n",
       "      <td>72703.0</td>\n",
       "      <td>SUV</td>\n",
       "      <td>...</td>\n",
       "      <td>Cadillac</td>\n",
       "      <td>19788.0</td>\n",
       "      <td>XT5</td>\n",
       "      <td>Good Deal</td>\n",
       "      <td>Luxury, Exterior Parking Camera Rear, Front Du...</td>\n",
       "      <td>Used</td>\n",
       "      <td>8-Speed Automatic</td>\n",
       "      <td>2018</td>\n",
       "      <td>Luxury</td>\n",
       "      <td>33495.0</td>\n",
       "    </tr>\n",
       "  </tbody>\n",
       "</table>\n",
       "<p>5 rows × 29 columns</p>\n",
       "</div>"
      ],
      "text/plain": [
       "   ListingID    SellerCity  SellerIsPriv               SellerListSrc  \\\n",
       "0       3287        Warren         False    Inventory Command Center   \n",
       "1       3920         Fargo         False  Cadillac Certified Program   \n",
       "2       4777      Waukesha         False      Jeep Certified Program   \n",
       "3       6242    Wentzville         False    Inventory Command Center   \n",
       "4       7108  Fayetteville         False          HomeNet Automotive   \n",
       "\n",
       "                                   SellerName  SellerRating  SellerRevCnt  \\\n",
       "0                                Prime Motorz           5.0            32   \n",
       "1                  Gateway Chevrolet Cadillac           4.8          1456   \n",
       "2  Wilde Chrysler Jeep Dodge Ram &amp; Subaru           4.8          1405   \n",
       "3             Century Dodge Chrysler Jeep RAM           4.4            21   \n",
       "4          Superior Buick GMC of Fayetteville           3.7            74   \n",
       "\n",
       "  SellerState  SellerZip VehBodystyle  ...   VehMake VehMileage  \\\n",
       "0          MI    48091.0          SUV  ...      Jeep    39319.0   \n",
       "1          ND    58103.0          SUV  ...  Cadillac    30352.0   \n",
       "2          WI    53186.0          SUV  ...      Jeep    38957.0   \n",
       "3          MO    63385.0          SUV  ...      Jeep    20404.0   \n",
       "4          AR    72703.0          SUV  ...  Cadillac    19788.0   \n",
       "\n",
       "         VehModel VehPriceLabel  \\\n",
       "0  Grand Cherokee    Fair Price   \n",
       "1             XT5     Good Deal   \n",
       "2  Grand Cherokee     Good Deal   \n",
       "3  Grand Cherokee     Good Deal   \n",
       "4             XT5     Good Deal   \n",
       "\n",
       "                                      VehSellerNotes VehType  \\\n",
       "0                                                NaN    Used   \n",
       "1  Come take a look at our great pre-owned invent...    Used   \n",
       "2  Backed by a rigorous 125-point inspection by f...    Used   \n",
       "3  Drop by to see us and you will quickly see how...    Used   \n",
       "4  Luxury, Exterior Parking Camera Rear, Front Du...    Used   \n",
       "\n",
       "          VehTransmission VehYear   Vehicle_Trim Dealer_Listing_Price  \n",
       "0       Automatic 8-Speed    2015  High Altitude              30990.0  \n",
       "1                     NaN    2017            NaN              34860.0  \n",
       "2  8-Speed Automatic w/OD    2015         Laredo              23249.0  \n",
       "3               Automatic    2018        Limited              31977.0  \n",
       "4       8-Speed Automatic    2018         Luxury              33495.0  \n",
       "\n",
       "[5 rows x 29 columns]"
      ]
     },
     "execution_count": 3,
     "metadata": {},
     "output_type": "execute_result"
    }
   ],
   "source": [
    "df = pd.read_csv('../Test_Dataset/Training_DataSet.csv', header=0)\n",
    "df.head()"
   ]
  },
  {
   "cell_type": "code",
   "execution_count": 4,
   "metadata": {},
   "outputs": [
    {
     "data": {
      "text/plain": [
       "VehModel\n",
       "Grand Cherokee    4199\n",
       "XT5               2099\n",
       "Name: count, dtype: int64"
      ]
     },
     "execution_count": 4,
     "metadata": {},
     "output_type": "execute_result"
    }
   ],
   "source": [
    "df['VehModel'].value_counts()"
   ]
  },
  {
   "cell_type": "code",
   "execution_count": 6,
   "metadata": {},
   "outputs": [
    {
     "data": {
      "text/plain": [
       "(4199, 29)"
      ]
     },
     "execution_count": 6,
     "metadata": {},
     "output_type": "execute_result"
    }
   ],
   "source": [
    "df_wk2 = df[df['VehModel'] == 'Grand Cherokee']\n",
    "df_wk2.shape"
   ]
  },
  {
   "cell_type": "code",
   "execution_count": 7,
   "metadata": {},
   "outputs": [
    {
     "name": "stdout",
     "output_type": "stream",
     "text": [
      "\n",
      "\n",
      "SellerIsPriv\n",
      "False    4187\n",
      "True       12\n",
      "Name: count, dtype: int64\n",
      "\n",
      "\n",
      "VehBodystyle\n",
      "SUV    4199\n",
      "Name: count, dtype: int64\n",
      "\n",
      "\n",
      "VehCertified\n",
      "False    3489\n",
      "True      710\n",
      "Name: count, dtype: int64\n",
      "\n",
      "\n",
      "VehFuel\n",
      "Gasoline         3803\n",
      "E85 Flex Fuel     343\n",
      "Diesel             41\n",
      "Unknown            10\n",
      "Name: count, dtype: int64\n",
      "\n",
      "\n",
      "VehMake\n",
      "Jeep    4199\n",
      "Name: count, dtype: int64\n",
      "\n",
      "\n",
      "VehModel\n",
      "Grand Cherokee    4199\n",
      "Name: count, dtype: int64\n",
      "\n",
      "\n",
      "VehPriceLabel\n",
      "Good Deal     2917\n",
      "Great Deal     581\n",
      "Fair Price     503\n",
      "Name: count, dtype: int64\n",
      "\n",
      "\n",
      "VehType\n",
      "Used    4199\n",
      "Name: count, dtype: int64\n"
     ]
    }
   ],
   "source": [
    "for name in df_wk2.columns:\n",
    "    vc = df_wk2[name].value_counts()\n",
    "    if vc.shape[0] < 5:\n",
    "        print('\\n')\n",
    "        print(vc)\n"
   ]
  },
  {
   "cell_type": "code",
   "execution_count": 8,
   "metadata": {},
   "outputs": [
    {
     "name": "stderr",
     "output_type": "stream",
     "text": [
      "/tmp/ipykernel_13605/3112121530.py:2: SettingWithCopyWarning: \n",
      "A value is trying to be set on a copy of a slice from a DataFrame\n",
      "\n",
      "See the caveats in the documentation: https://pandas.pydata.org/pandas-docs/stable/user_guide/indexing.html#returning-a-view-versus-a-copy\n",
      "  df_wk2.drop(columns=['SellerIsPriv', 'VehType', 'VehBodystyle', 'VehFuel', 'VehMake', 'VehModel'], inplace=True)\n"
     ]
    },
    {
     "data": {
      "text/html": [
       "<div>\n",
       "<style scoped>\n",
       "    .dataframe tbody tr th:only-of-type {\n",
       "        vertical-align: middle;\n",
       "    }\n",
       "\n",
       "    .dataframe tbody tr th {\n",
       "        vertical-align: top;\n",
       "    }\n",
       "\n",
       "    .dataframe thead th {\n",
       "        text-align: right;\n",
       "    }\n",
       "</style>\n",
       "<table border=\"1\" class=\"dataframe\">\n",
       "  <thead>\n",
       "    <tr style=\"text-align: right;\">\n",
       "      <th></th>\n",
       "      <th>ListingID</th>\n",
       "      <th>SellerCity</th>\n",
       "      <th>SellerListSrc</th>\n",
       "      <th>SellerName</th>\n",
       "      <th>SellerRating</th>\n",
       "      <th>SellerRevCnt</th>\n",
       "      <th>SellerState</th>\n",
       "      <th>SellerZip</th>\n",
       "      <th>VehCertified</th>\n",
       "      <th>VehColorExt</th>\n",
       "      <th>...</th>\n",
       "      <th>VehFeats</th>\n",
       "      <th>VehHistory</th>\n",
       "      <th>VehListdays</th>\n",
       "      <th>VehMileage</th>\n",
       "      <th>VehPriceLabel</th>\n",
       "      <th>VehSellerNotes</th>\n",
       "      <th>VehTransmission</th>\n",
       "      <th>VehYear</th>\n",
       "      <th>Vehicle_Trim</th>\n",
       "      <th>Dealer_Listing_Price</th>\n",
       "    </tr>\n",
       "  </thead>\n",
       "  <tbody>\n",
       "    <tr>\n",
       "      <th>0</th>\n",
       "      <td>3287</td>\n",
       "      <td>Warren</td>\n",
       "      <td>Inventory Command Center</td>\n",
       "      <td>Prime Motorz</td>\n",
       "      <td>5.0</td>\n",
       "      <td>32</td>\n",
       "      <td>MI</td>\n",
       "      <td>48091.0</td>\n",
       "      <td>False</td>\n",
       "      <td>White</td>\n",
       "      <td>...</td>\n",
       "      <td>['Adaptive Cruise Control', 'Antilock Brakes',...</td>\n",
       "      <td>1 Owner, Non-Personal Use Reported, Buyback Pr...</td>\n",
       "      <td>8.600069</td>\n",
       "      <td>39319.0</td>\n",
       "      <td>Fair Price</td>\n",
       "      <td>NaN</td>\n",
       "      <td>Automatic 8-Speed</td>\n",
       "      <td>2015</td>\n",
       "      <td>High Altitude</td>\n",
       "      <td>30990.0</td>\n",
       "    </tr>\n",
       "    <tr>\n",
       "      <th>2</th>\n",
       "      <td>4777</td>\n",
       "      <td>Waukesha</td>\n",
       "      <td>Jeep Certified Program</td>\n",
       "      <td>Wilde Chrysler Jeep Dodge Ram &amp;amp; Subaru</td>\n",
       "      <td>4.8</td>\n",
       "      <td>1405</td>\n",
       "      <td>WI</td>\n",
       "      <td>53186.0</td>\n",
       "      <td>True</td>\n",
       "      <td>Brilliant Black Crystal Pearlcoat</td>\n",
       "      <td>...</td>\n",
       "      <td>['18 WHEEL &amp;amp; 8.4 RADIO GROUP-inc: Nav-Capa...</td>\n",
       "      <td>1 Owner, Buyback Protection Eligible</td>\n",
       "      <td>28.107014</td>\n",
       "      <td>38957.0</td>\n",
       "      <td>Good Deal</td>\n",
       "      <td>Backed by a rigorous 125-point inspection by f...</td>\n",
       "      <td>8-Speed Automatic w/OD</td>\n",
       "      <td>2015</td>\n",
       "      <td>Laredo</td>\n",
       "      <td>23249.0</td>\n",
       "    </tr>\n",
       "    <tr>\n",
       "      <th>3</th>\n",
       "      <td>6242</td>\n",
       "      <td>Wentzville</td>\n",
       "      <td>Inventory Command Center</td>\n",
       "      <td>Century Dodge Chrysler Jeep RAM</td>\n",
       "      <td>4.4</td>\n",
       "      <td>21</td>\n",
       "      <td>MO</td>\n",
       "      <td>63385.0</td>\n",
       "      <td>False</td>\n",
       "      <td>Diamond Black Crystal Pearlcoat</td>\n",
       "      <td>...</td>\n",
       "      <td>['Android Auto', 'Antilock Brakes', 'Apple Car...</td>\n",
       "      <td>1 Owner, Non-Personal Use Reported, Buyback Pr...</td>\n",
       "      <td>59.816875</td>\n",
       "      <td>20404.0</td>\n",
       "      <td>Good Deal</td>\n",
       "      <td>Drop by to see us and you will quickly see how...</td>\n",
       "      <td>Automatic</td>\n",
       "      <td>2018</td>\n",
       "      <td>Limited</td>\n",
       "      <td>31977.0</td>\n",
       "    </tr>\n",
       "    <tr>\n",
       "      <th>5</th>\n",
       "      <td>10882</td>\n",
       "      <td>Olean</td>\n",
       "      <td>Digital Motorworks (DMi)</td>\n",
       "      <td>Paul Brown Chrysler Dodge Jeep RAM Kia</td>\n",
       "      <td>3.0</td>\n",
       "      <td>51</td>\n",
       "      <td>NY</td>\n",
       "      <td>14760.0</td>\n",
       "      <td>False</td>\n",
       "      <td>Billet Silver Metallic Clearcoat</td>\n",
       "      <td>...</td>\n",
       "      <td>['1st and 2nd row curtain head airbags', '4-wh...</td>\n",
       "      <td>1 Owner, Non-Personal Use Reported, Buyback Pr...</td>\n",
       "      <td>30.967500</td>\n",
       "      <td>34649.0</td>\n",
       "      <td>Good Deal</td>\n",
       "      <td>Priced below KBB Fair Purchase Price! Clean CA...</td>\n",
       "      <td>8-Speed Automatic</td>\n",
       "      <td>2018</td>\n",
       "      <td>Limited</td>\n",
       "      <td>27900.0</td>\n",
       "    </tr>\n",
       "    <tr>\n",
       "      <th>6</th>\n",
       "      <td>12013</td>\n",
       "      <td>Ottawa</td>\n",
       "      <td>Digital Motorworks (DMi)</td>\n",
       "      <td>Sierra Motor Mall</td>\n",
       "      <td>3.5</td>\n",
       "      <td>17</td>\n",
       "      <td>IL</td>\n",
       "      <td>61350.0</td>\n",
       "      <td>False</td>\n",
       "      <td>True Blue Pearlcoat</td>\n",
       "      <td>...</td>\n",
       "      <td>['1st and 2nd row curtain head airbags', '4-wh...</td>\n",
       "      <td>1 Owner, Accident(s) Reported, Non-Personal Us...</td>\n",
       "      <td>194.482338</td>\n",
       "      <td>48814.0</td>\n",
       "      <td>Good Deal</td>\n",
       "      <td>2017 Jeep Grand Cherokee Laredo True Blue Pear...</td>\n",
       "      <td>8-Speed Automatic</td>\n",
       "      <td>2017</td>\n",
       "      <td>Laredo</td>\n",
       "      <td>22989.0</td>\n",
       "    </tr>\n",
       "  </tbody>\n",
       "</table>\n",
       "<p>5 rows × 23 columns</p>\n",
       "</div>"
      ],
      "text/plain": [
       "   ListingID  SellerCity             SellerListSrc  \\\n",
       "0       3287      Warren  Inventory Command Center   \n",
       "2       4777    Waukesha    Jeep Certified Program   \n",
       "3       6242  Wentzville  Inventory Command Center   \n",
       "5      10882       Olean  Digital Motorworks (DMi)   \n",
       "6      12013      Ottawa  Digital Motorworks (DMi)   \n",
       "\n",
       "                                   SellerName  SellerRating  SellerRevCnt  \\\n",
       "0                                Prime Motorz           5.0            32   \n",
       "2  Wilde Chrysler Jeep Dodge Ram &amp; Subaru           4.8          1405   \n",
       "3             Century Dodge Chrysler Jeep RAM           4.4            21   \n",
       "5      Paul Brown Chrysler Dodge Jeep RAM Kia           3.0            51   \n",
       "6                           Sierra Motor Mall           3.5            17   \n",
       "\n",
       "  SellerState  SellerZip  VehCertified                        VehColorExt  \\\n",
       "0          MI    48091.0         False                              White   \n",
       "2          WI    53186.0          True  Brilliant Black Crystal Pearlcoat   \n",
       "3          MO    63385.0         False    Diamond Black Crystal Pearlcoat   \n",
       "5          NY    14760.0         False   Billet Silver Metallic Clearcoat   \n",
       "6          IL    61350.0         False                True Blue Pearlcoat   \n",
       "\n",
       "   ...                                           VehFeats  \\\n",
       "0  ...  ['Adaptive Cruise Control', 'Antilock Brakes',...   \n",
       "2  ...  ['18 WHEEL &amp; 8.4 RADIO GROUP-inc: Nav-Capa...   \n",
       "3  ...  ['Android Auto', 'Antilock Brakes', 'Apple Car...   \n",
       "5  ...  ['1st and 2nd row curtain head airbags', '4-wh...   \n",
       "6  ...  ['1st and 2nd row curtain head airbags', '4-wh...   \n",
       "\n",
       "                                          VehHistory VehListdays VehMileage  \\\n",
       "0  1 Owner, Non-Personal Use Reported, Buyback Pr...    8.600069    39319.0   \n",
       "2               1 Owner, Buyback Protection Eligible   28.107014    38957.0   \n",
       "3  1 Owner, Non-Personal Use Reported, Buyback Pr...   59.816875    20404.0   \n",
       "5  1 Owner, Non-Personal Use Reported, Buyback Pr...   30.967500    34649.0   \n",
       "6  1 Owner, Accident(s) Reported, Non-Personal Us...  194.482338    48814.0   \n",
       "\n",
       "  VehPriceLabel                                     VehSellerNotes  \\\n",
       "0    Fair Price                                                NaN   \n",
       "2     Good Deal  Backed by a rigorous 125-point inspection by f...   \n",
       "3     Good Deal  Drop by to see us and you will quickly see how...   \n",
       "5     Good Deal  Priced below KBB Fair Purchase Price! Clean CA...   \n",
       "6     Good Deal  2017 Jeep Grand Cherokee Laredo True Blue Pear...   \n",
       "\n",
       "          VehTransmission VehYear   Vehicle_Trim Dealer_Listing_Price  \n",
       "0       Automatic 8-Speed    2015  High Altitude              30990.0  \n",
       "2  8-Speed Automatic w/OD    2015         Laredo              23249.0  \n",
       "3               Automatic    2018        Limited              31977.0  \n",
       "5       8-Speed Automatic    2018        Limited              27900.0  \n",
       "6       8-Speed Automatic    2017         Laredo              22989.0  \n",
       "\n",
       "[5 rows x 23 columns]"
      ]
     },
     "execution_count": 8,
     "metadata": {},
     "output_type": "execute_result"
    }
   ],
   "source": [
    "# 'ListingID', \n",
    "df_wk2.drop(columns=['SellerIsPriv', 'VehType', 'VehBodystyle', 'VehFuel', 'VehMake', 'VehModel'], inplace=True)\n",
    "df_wk2.head()"
   ]
  },
  {
   "cell_type": "code",
   "execution_count": 9,
   "metadata": {},
   "outputs": [
    {
     "ename": "KeyError",
     "evalue": "\"['SellerIsPriv'] not found in axis\"",
     "output_type": "error",
     "traceback": [
      "\u001b[0;31m---------------------------------------------------------------------------\u001b[0m",
      "\u001b[0;31mKeyError\u001b[0m                                  Traceback (most recent call last)",
      "Cell \u001b[0;32mIn[9], line 1\u001b[0m\n\u001b[0;32m----> 1\u001b[0m df_wk2\u001b[39m.\u001b[39;49mdrop(columns\u001b[39m=\u001b[39;49m[\u001b[39m'\u001b[39;49m\u001b[39mSellerIsPriv\u001b[39;49m\u001b[39m'\u001b[39;49m, \u001b[39m'\u001b[39;49m\u001b[39mVehTransmission\u001b[39;49m\u001b[39m'\u001b[39;49m, \u001b[39m'\u001b[39;49m\u001b[39mVehEngine\u001b[39;49m\u001b[39m'\u001b[39;49m], inplace\u001b[39m=\u001b[39;49m\u001b[39mTrue\u001b[39;49;00m) \u001b[39m# XT5\u001b[39;00m\n\u001b[1;32m      2\u001b[0m \u001b[39m# 'VehTransmission', 'VehEngine' as in US there is only one option\u001b[39;00m\n\u001b[1;32m      3\u001b[0m df_wk2\u001b[39m.\u001b[39mhead()\n",
      "File \u001b[0;32m~/code/ds/boeing/.venv/lib/python3.10/site-packages/pandas/core/frame.py:5258\u001b[0m, in \u001b[0;36mDataFrame.drop\u001b[0;34m(self, labels, axis, index, columns, level, inplace, errors)\u001b[0m\n\u001b[1;32m   5110\u001b[0m \u001b[39mdef\u001b[39;00m \u001b[39mdrop\u001b[39m(\n\u001b[1;32m   5111\u001b[0m     \u001b[39mself\u001b[39m,\n\u001b[1;32m   5112\u001b[0m     labels: IndexLabel \u001b[39m=\u001b[39m \u001b[39mNone\u001b[39;00m,\n\u001b[0;32m   (...)\u001b[0m\n\u001b[1;32m   5119\u001b[0m     errors: IgnoreRaise \u001b[39m=\u001b[39m \u001b[39m\"\u001b[39m\u001b[39mraise\u001b[39m\u001b[39m\"\u001b[39m,\n\u001b[1;32m   5120\u001b[0m ) \u001b[39m-\u001b[39m\u001b[39m>\u001b[39m DataFrame \u001b[39m|\u001b[39m \u001b[39mNone\u001b[39;00m:\n\u001b[1;32m   5121\u001b[0m \u001b[39m    \u001b[39m\u001b[39m\"\"\"\u001b[39;00m\n\u001b[1;32m   5122\u001b[0m \u001b[39m    Drop specified labels from rows or columns.\u001b[39;00m\n\u001b[1;32m   5123\u001b[0m \n\u001b[0;32m   (...)\u001b[0m\n\u001b[1;32m   5256\u001b[0m \u001b[39m            weight  1.0     0.8\u001b[39;00m\n\u001b[1;32m   5257\u001b[0m \u001b[39m    \"\"\"\u001b[39;00m\n\u001b[0;32m-> 5258\u001b[0m     \u001b[39mreturn\u001b[39;00m \u001b[39msuper\u001b[39;49m()\u001b[39m.\u001b[39;49mdrop(\n\u001b[1;32m   5259\u001b[0m         labels\u001b[39m=\u001b[39;49mlabels,\n\u001b[1;32m   5260\u001b[0m         axis\u001b[39m=\u001b[39;49maxis,\n\u001b[1;32m   5261\u001b[0m         index\u001b[39m=\u001b[39;49mindex,\n\u001b[1;32m   5262\u001b[0m         columns\u001b[39m=\u001b[39;49mcolumns,\n\u001b[1;32m   5263\u001b[0m         level\u001b[39m=\u001b[39;49mlevel,\n\u001b[1;32m   5264\u001b[0m         inplace\u001b[39m=\u001b[39;49minplace,\n\u001b[1;32m   5265\u001b[0m         errors\u001b[39m=\u001b[39;49merrors,\n\u001b[1;32m   5266\u001b[0m     )\n",
      "File \u001b[0;32m~/code/ds/boeing/.venv/lib/python3.10/site-packages/pandas/core/generic.py:4549\u001b[0m, in \u001b[0;36mNDFrame.drop\u001b[0;34m(self, labels, axis, index, columns, level, inplace, errors)\u001b[0m\n\u001b[1;32m   4547\u001b[0m \u001b[39mfor\u001b[39;00m axis, labels \u001b[39min\u001b[39;00m axes\u001b[39m.\u001b[39mitems():\n\u001b[1;32m   4548\u001b[0m     \u001b[39mif\u001b[39;00m labels \u001b[39mis\u001b[39;00m \u001b[39mnot\u001b[39;00m \u001b[39mNone\u001b[39;00m:\n\u001b[0;32m-> 4549\u001b[0m         obj \u001b[39m=\u001b[39m obj\u001b[39m.\u001b[39;49m_drop_axis(labels, axis, level\u001b[39m=\u001b[39;49mlevel, errors\u001b[39m=\u001b[39;49merrors)\n\u001b[1;32m   4551\u001b[0m \u001b[39mif\u001b[39;00m inplace:\n\u001b[1;32m   4552\u001b[0m     \u001b[39mself\u001b[39m\u001b[39m.\u001b[39m_update_inplace(obj)\n",
      "File \u001b[0;32m~/code/ds/boeing/.venv/lib/python3.10/site-packages/pandas/core/generic.py:4591\u001b[0m, in \u001b[0;36mNDFrame._drop_axis\u001b[0;34m(self, labels, axis, level, errors, only_slice)\u001b[0m\n\u001b[1;32m   4589\u001b[0m         new_axis \u001b[39m=\u001b[39m axis\u001b[39m.\u001b[39mdrop(labels, level\u001b[39m=\u001b[39mlevel, errors\u001b[39m=\u001b[39merrors)\n\u001b[1;32m   4590\u001b[0m     \u001b[39melse\u001b[39;00m:\n\u001b[0;32m-> 4591\u001b[0m         new_axis \u001b[39m=\u001b[39m axis\u001b[39m.\u001b[39;49mdrop(labels, errors\u001b[39m=\u001b[39;49merrors)\n\u001b[1;32m   4592\u001b[0m     indexer \u001b[39m=\u001b[39m axis\u001b[39m.\u001b[39mget_indexer(new_axis)\n\u001b[1;32m   4594\u001b[0m \u001b[39m# Case for non-unique axis\u001b[39;00m\n\u001b[1;32m   4595\u001b[0m \u001b[39melse\u001b[39;00m:\n",
      "File \u001b[0;32m~/code/ds/boeing/.venv/lib/python3.10/site-packages/pandas/core/indexes/base.py:6699\u001b[0m, in \u001b[0;36mIndex.drop\u001b[0;34m(self, labels, errors)\u001b[0m\n\u001b[1;32m   6697\u001b[0m \u001b[39mif\u001b[39;00m mask\u001b[39m.\u001b[39many():\n\u001b[1;32m   6698\u001b[0m     \u001b[39mif\u001b[39;00m errors \u001b[39m!=\u001b[39m \u001b[39m\"\u001b[39m\u001b[39mignore\u001b[39m\u001b[39m\"\u001b[39m:\n\u001b[0;32m-> 6699\u001b[0m         \u001b[39mraise\u001b[39;00m \u001b[39mKeyError\u001b[39;00m(\u001b[39mf\u001b[39m\u001b[39m\"\u001b[39m\u001b[39m{\u001b[39;00m\u001b[39mlist\u001b[39m(labels[mask])\u001b[39m}\u001b[39;00m\u001b[39m not found in axis\u001b[39m\u001b[39m\"\u001b[39m)\n\u001b[1;32m   6700\u001b[0m     indexer \u001b[39m=\u001b[39m indexer[\u001b[39m~\u001b[39mmask]\n\u001b[1;32m   6701\u001b[0m \u001b[39mreturn\u001b[39;00m \u001b[39mself\u001b[39m\u001b[39m.\u001b[39mdelete(indexer)\n",
      "\u001b[0;31mKeyError\u001b[0m: \"['SellerIsPriv'] not found in axis\""
     ]
    }
   ],
   "source": [
    "df_wk2.drop(columns=['SellerIsPriv', 'VehTransmission', 'VehEngine'], inplace=True) # XT5\n",
    "# 'VehTransmission', 'VehEngine' as in US there is only one option\n",
    "df_wk2.head()"
   ]
  },
  {
   "cell_type": "code",
   "execution_count": 13,
   "metadata": {},
   "outputs": [
    {
     "data": {
      "text/plain": [
       "0        True\n",
       "2       False\n",
       "3       False\n",
       "5       False\n",
       "6       False\n",
       "        ...  \n",
       "6291    False\n",
       "6292    False\n",
       "6293     True\n",
       "6294    False\n",
       "6297    False\n",
       "Length: 4199, dtype: bool"
      ]
     },
     "execution_count": 13,
     "metadata": {},
     "output_type": "execute_result"
    }
   ],
   "source": [
    "df_wk2.isna().sum(axis=1)>0"
   ]
  },
  {
   "cell_type": "code",
   "execution_count": 11,
   "metadata": {},
   "outputs": [
    {
     "data": {
      "text/plain": [
       "0        True\n",
       "2       False\n",
       "3       False\n",
       "5       False\n",
       "6       False\n",
       "        ...  \n",
       "6291    False\n",
       "6292    False\n",
       "6293    False\n",
       "6294    False\n",
       "6297    False\n",
       "Name: VehSellerNotes, Length: 4199, dtype: bool"
      ]
     },
     "execution_count": 11,
     "metadata": {},
     "output_type": "execute_result"
    }
   ],
   "source": [
    "df_wk2['VehSellerNotes'].isna()"
   ]
  },
  {
   "cell_type": "code",
   "execution_count": null,
   "metadata": {},
   "outputs": [],
   "source": [
    "df_wk2.columns"
   ]
  },
  {
   "cell_type": "code",
   "execution_count": null,
   "metadata": {},
   "outputs": [],
   "source": [
    "cont_cols = ['SellerRating', 'SellerRevCnt', 'VehListdays', 'VehMileage', \"Dealer_Listing_Price\"]\n",
    "cat_cols = ['SellerListSrc', 'SellerName', 'VehBodystyle', 'VehCertified', 'VehColorExt', 'VehDriveTrain',\n",
    "       'VehFeats', 'VehFuel', 'VehHistory', 'VehMake',\n",
    "       'VehMileage', 'VehPriceLabel', 'VehSellerNotes', 'VehType']\n",
    "df_wk2[cont_cols] = SimpleImputer(missing_values=np.nan, strategy='mean').fit_transform(df_wk2[cont_cols])\n",
    "df_wk2[cat_cols] = SimpleImputer(missing_values=np.nan, strategy='constant', fill_value='').fit_transform(df_wk2[cat_cols])\n",
    "df_wk2[\"VehYear\"] = SimpleImputer(missing_values=np.nan, strategy='constant', fill_value=2018).fit_transform(df_wk2[[\"VehYear\"]])\n",
    "df_wk2[\"SellerRevCnt\"] = SimpleImputer(missing_values=np.nan, strategy='constant', fill_value=2018).fit_transform(df_wk2[[\"SellerRevCnt\"]])\n",
    "# df_wk2[\"SellerIsPriv\"] = SimpleImputer(missing_values=np.nan, strategy='constant', fill_value=False).fit_transform(df_wk2[[\"SellerIsPriv\"]])\n",
    "df_wk2[\"VehListdays\"] = SimpleImputer(missing_values=np.nan, strategy='mean').fit_transform(df_wk2[[\"VehListdays\"]])"
   ]
  },
  {
   "cell_type": "code",
   "execution_count": null,
   "metadata": {},
   "outputs": [],
   "source": [
    "df_wk2.drop(columns=['VehColorInt'], inplace=True) # nan-cleaning\n",
    "df_wk2.head()"
   ]
  },
  {
   "cell_type": "code",
   "execution_count": null,
   "metadata": {},
   "outputs": [],
   "source": [
    "nan_indices = df_wk2.isna().sum(axis=1).sort_values(ascending=False)\n",
    "nan_indices[nan_indices > 0].value_counts()"
   ]
  },
  {
   "cell_type": "code",
   "execution_count": null,
   "metadata": {},
   "outputs": [],
   "source": [
    "nan_indices[nan_indices > 0].shape"
   ]
  },
  {
   "cell_type": "code",
   "execution_count": null,
   "metadata": {},
   "outputs": [],
   "source": [
    "ndf_wk2 = df_wk2[nan_indices == 0]\n",
    "ndf_wk2.shape"
   ]
  },
  {
   "cell_type": "code",
   "execution_count": null,
   "metadata": {},
   "outputs": [],
   "source": [
    "ndf_wk2.describe()"
   ]
  },
  {
   "cell_type": "code",
   "execution_count": null,
   "metadata": {},
   "outputs": [],
   "source": [
    "ndf_wk2['VehYear'].value_counts()"
   ]
  },
  {
   "cell_type": "code",
   "execution_count": null,
   "metadata": {},
   "outputs": [],
   "source": [
    "ndf_wk2['SellerZip'].unique().shape"
   ]
  },
  {
   "cell_type": "code",
   "execution_count": null,
   "metadata": {},
   "outputs": [],
   "source": [
    "ndf_wk2['VehDriveTrain'].value_counts()"
   ]
  },
  {
   "cell_type": "code",
   "execution_count": null,
   "metadata": {},
   "outputs": [],
   "source": [
    "ndf_wk2['VehHistory'].value_counts()"
   ]
  },
  {
   "cell_type": "code",
   "execution_count": null,
   "metadata": {},
   "outputs": [],
   "source": [
    "history_lst = []\n",
    "for hist in  ndf_wk2['VehHistory']:\n",
    "    print(hist, type(hist))\n",
    "    if isinstance(hist, str):\n",
    "        history_lst.extend(hist.split(', '))"
   ]
  },
  {
   "cell_type": "code",
   "execution_count": null,
   "metadata": {},
   "outputs": [],
   "source": [
    "Counter(history_lst).most_common(12)"
   ]
  },
  {
   "cell_type": "code",
   "execution_count": null,
   "metadata": {},
   "outputs": [],
   "source": [
    "ndf_wk2['VehPriceLabel'].value_counts()"
   ]
  },
  {
   "cell_type": "code",
   "execution_count": null,
   "metadata": {},
   "outputs": [],
   "source": [
    "ndf_wk2['VehSellerNotes'][:5]"
   ]
  },
  {
   "cell_type": "code",
   "execution_count": null,
   "metadata": {},
   "outputs": [],
   "source": [
    "ndf_wk2.columns"
   ]
  },
  {
   "cell_type": "code",
   "execution_count": null,
   "metadata": {},
   "outputs": [],
   "source": [
    "ndf_wk2['VehYear'].value_counts()"
   ]
  },
  {
   "cell_type": "code",
   "execution_count": null,
   "metadata": {},
   "outputs": [],
   "source": [
    "ndf_wk2['Vehicle_Trim'].value_counts()"
   ]
  },
  {
   "cell_type": "code",
   "execution_count": null,
   "metadata": {},
   "outputs": [],
   "source": [
    "cont_cols = ['SellerRating', 'SellerRevCnt', 'VehListdays', 'VehMileage']\n",
    "cont_cols"
   ]
  },
  {
   "cell_type": "code",
   "execution_count": null,
   "metadata": {},
   "outputs": [],
   "source": [
    "fig, axs = plt.subplots(\n",
    "    ncols=len(cont_cols), \n",
    "    nrows=len(cont_cols), \n",
    "    figsize=(25, 25)\n",
    ")\n",
    "for i in range(len(cont_cols)):\n",
    "    for j in range(i+1):\n",
    "        if i == j:\n",
    "            sns.histplot(\n",
    "                data=ndf_wk2, \n",
    "                x=cont_cols[i],\n",
    "                bins=50, \n",
    "                ax=axs[i][i]\n",
    "                )\n",
    "        else:\n",
    "            sns.scatterplot(\n",
    "                data=ndf_wk2,\n",
    "                x=cont_cols[i], \n",
    "                y=cont_cols[j], \n",
    "                hue=\"Dealer_Listing_Price\", \n",
    "                # palette='dark',\n",
    "                legend=True, \n",
    "                ax=axs[i][j]\n",
    "                )"
   ]
  },
  {
   "cell_type": "code",
   "execution_count": null,
   "metadata": {},
   "outputs": [],
   "source": [
    "cont_cols = ['SellerRating', 'SellerRevCnt', 'VehListdays', 'VehMileage', \"Dealer_Listing_Price\"]\n",
    "fig, axs = plt.subplots(ncols=len(cont_cols), nrows=len(cont_cols), figsize=(25,25))\n",
    "for i in range(len(cont_cols)):\n",
    "    for j in range(i+1):\n",
    "        if i == j:\n",
    "            sns.histplot(\n",
    "                data=ndf_wk2, \n",
    "                x=cont_cols[i], \n",
    "                hue=\"VehPriceLabel\", \n",
    "                palette=sns.color_palette(\"tab10\", 3),  \n",
    "                bins=50, \n",
    "                ax=axs[i][i]\n",
    "                )\n",
    "        else:\n",
    "            sns.scatterplot(\n",
    "                data=ndf_wk2,\n",
    "                x=cont_cols[i], \n",
    "                y=cont_cols[j], \n",
    "                hue=\"VehPriceLabel\", \n",
    "                palette=sns.color_palette(\"tab10\", 3),\n",
    "                legend=True, \n",
    "                ax=axs[i][j]\n",
    "                )"
   ]
  },
  {
   "cell_type": "code",
   "execution_count": null,
   "metadata": {},
   "outputs": [],
   "source": [
    "df_wk2[\"VehCertified\"].value_counts()"
   ]
  },
  {
   "cell_type": "code",
   "execution_count": null,
   "metadata": {},
   "outputs": [],
   "source": [
    "cont_cols = ['SellerRating', 'SellerRevCnt', 'VehListdays', 'VehMileage', \"Dealer_Listing_Price\"]\n",
    "fig, axs = plt.subplots(ncols=len(cont_cols), nrows=len(cont_cols), figsize=(25,25))\n",
    "for i in range(len(cont_cols)):\n",
    "    for j in range(len(cont_cols)):\n",
    "        if i == j:\n",
    "            sns.histplot(\n",
    "                data=ndf_wk2,\n",
    "                x=cont_cols[i],\n",
    "                hue=\"VehCertified\", \n",
    "                palette=sns.color_palette(\"tab10\", 2),\n",
    "                bins=20,\n",
    "                ax=axs[i][i]\n",
    "                )\n",
    "        elif j <i:\n",
    "            sns.scatterplot(\n",
    "                data=ndf_wk2,\n",
    "                x=cont_cols[i], \n",
    "                y=cont_cols[j], \n",
    "                hue=\"VehCertified\", \n",
    "                palette=sns.color_palette(\"tab10\", 2),\n",
    "                legend=True, \n",
    "                ax=axs[i][j]\n",
    "                )\n",
    "        else:\n",
    "            fig.delaxes(axs[i,j])"
   ]
  },
  {
   "cell_type": "code",
   "execution_count": null,
   "metadata": {},
   "outputs": [],
   "source": [
    "ndf_wk2[\"VehYear\"].value_counts()"
   ]
  },
  {
   "cell_type": "code",
   "execution_count": null,
   "metadata": {},
   "outputs": [],
   "source": [
    "cont_cols = ['SellerRating', 'SellerRevCnt', 'VehListdays', 'VehMileage', \"Dealer_Listing_Price\"]\n",
    "fig, axs = plt.subplots(ncols=len(cont_cols), nrows=len(cont_cols), figsize=(25,25))\n",
    "for i in range(len(cont_cols)):\n",
    "    for j in range(i+1):\n",
    "        if i == j:\n",
    "            sns.histplot(\n",
    "                data=ndf_wk2, \n",
    "                x=cont_cols[i], \n",
    "                hue=\"VehYear\", \n",
    "                palette=sns.color_palette(\"tab10\", 5),  \n",
    "                bins=50, \n",
    "                ax=axs[i][i]\n",
    "                )\n",
    "        else:\n",
    "            sns.scatterplot(\n",
    "                data=ndf_wk2,\n",
    "                x=cont_cols[i], \n",
    "                y=cont_cols[j], \n",
    "                hue=\"VehYear\", \n",
    "                palette=sns.color_palette(\"tab10\", 5),\n",
    "                legend=True, \n",
    "                ax=axs[i][j]\n",
    "                )"
   ]
  },
  {
   "cell_type": "code",
   "execution_count": null,
   "metadata": {},
   "outputs": [],
   "source": [
    "ndf_wk2[\"VehFuel\"].value_counts()"
   ]
  },
  {
   "cell_type": "code",
   "execution_count": null,
   "metadata": {},
   "outputs": [],
   "source": [
    "cont_cols = ['SellerRating', 'SellerRevCnt', 'VehListdays', 'VehMileage', \"Dealer_Listing_Price\"]\n",
    "fig, axs = plt.subplots(ncols=len(cont_cols), nrows=len(cont_cols), figsize=(25,25))\n",
    "for i in range(len(cont_cols)):\n",
    "    for j in range(len(cont_cols)):\n",
    "        if i == j:\n",
    "            sns.histplot(\n",
    "                data=ndf_wk2, \n",
    "                x=cont_cols[i], \n",
    "                hue=\"VehFuel\", \n",
    "                palette=sns.color_palette(\"tab10\", 4),  \n",
    "                bins=50, \n",
    "                ax=axs[i][i]\n",
    "                )\n",
    "        elif j<i:\n",
    "            sns.scatterplot(\n",
    "                data=ndf_wk2,\n",
    "                x=cont_cols[i], \n",
    "                y=cont_cols[j], \n",
    "                hue=\"VehFuel\", \n",
    "                palette=sns.color_palette(\"tab10\", 4),\n",
    "                legend=True, \n",
    "                ax=axs[i][j]\n",
    "                )\n",
    "        else:\n",
    "            fig.delaxes(axs[i][j])"
   ]
  },
  {
   "cell_type": "code",
   "execution_count": null,
   "metadata": {},
   "outputs": [],
   "source": [
    "cont_cols = ['SellerRating', 'SellerRevCnt', 'VehListdays', 'VehMileage', \"Dealer_Listing_Price\"]\n",
    "ndf_wk2[cont_cols].corr()"
   ]
  },
  {
   "cell_type": "code",
   "execution_count": null,
   "metadata": {},
   "outputs": [],
   "source": [
    "_ind = np.random.permutation(ndf_wk2.shape[0])\n",
    "_n = int(0.9 * ndf_wk2.shape[0])\n",
    "train_index, test_index = _ind[:_n], _ind[_n:]\n",
    "train_index.shape, test_index.shape"
   ]
  },
  {
   "cell_type": "code",
   "execution_count": null,
   "metadata": {},
   "outputs": [],
   "source": [
    "trim_df = pd.DataFrame()\n",
    "trim_df['VehFeats'] = ndf_wk2['VehFeats'].map(lambda x: ' '.join([_x[1:-1] for _x in x[1:-1].split(', ')]))\n",
    "trim_df['VehSellerNotes'] = ndf_wk2['VehSellerNotes']\n",
    "trim_df['VehColorExt'] = ndf_wk2['VehColorExt']\n",
    "trim_df['VehDriveTrain'] = ndf_wk2['VehDriveTrain']\n",
    "\n",
    "trim_df['y'] = OrdinalEncoder().fit_transform(ndf_wk2[['Vehicle_Trim']])\n",
    "trim_df['y'].value_counts()\n"
   ]
  },
  {
   "cell_type": "code",
   "execution_count": null,
   "metadata": {},
   "outputs": [],
   "source": [
    "from itertools import chain, combinations\n",
    "col_names = ['VehFeats', 'VehSellerNotes', 'VehColorExt', 'VehDriveTrain']\n",
    "\n",
    "for cols in chain.from_iterable(combinations(col_names, r) for r in range(1, len(col_names)+1)):\n",
    "    print(cols)\n",
    "    trim_df['data'] = ''\n",
    "    for col in cols:\n",
    "        trim_df['data'] += trim_df[col] + ' '\n",
    "\n",
    "    train_df = trim_df.iloc[train_index]\n",
    "\n",
    "    count_vector = CountVectorizer()\n",
    "    tfidf_transformer = TfidfTransformer()\n",
    "    train_counts = count_vector.fit_transform(train_df['data'])\n",
    "    train_tfidf = tfidf_transformer.fit_transform(train_counts)\n",
    "\n",
    "    clf = MultinomialNB().fit(train_tfidf, train_df['y'])\n",
    "\n",
    "    test_counts = count_vector.transform(trim_df.iloc[test_index]['data'])\n",
    "    test_tfidf = tfidf_transformer.transform(test_counts)\n",
    "    y_pred = clf.predict(test_tfidf)\n",
    "\n",
    "    print(confusion_matrix(y_pred, trim_df.iloc[test_index]['y']))\n"
   ]
  },
  {
   "cell_type": "code",
   "execution_count": null,
   "metadata": {},
   "outputs": [],
   "source": []
  },
  {
   "cell_type": "code",
   "execution_count": null,
   "metadata": {},
   "outputs": [],
   "source": []
  }
 ],
 "metadata": {
  "kernelspec": {
   "display_name": ".venv",
   "language": "python",
   "name": "python3"
  },
  "language_info": {
   "codemirror_mode": {
    "name": "ipython",
    "version": 3
   },
   "file_extension": ".py",
   "mimetype": "text/x-python",
   "name": "python",
   "nbconvert_exporter": "python",
   "pygments_lexer": "ipython3",
   "version": "3.10.12"
  },
  "orig_nbformat": 4
 },
 "nbformat": 4,
 "nbformat_minor": 2
}
