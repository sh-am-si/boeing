{
 "cells": [
  {
   "cell_type": "code",
   "execution_count": null,
   "metadata": {},
   "outputs": [],
   "source": [
    "import numpy as np\n",
    "import pandas as pd\n",
    "import matplotlib.pylab as plt\n",
    "%matplotlib inline\n",
    "\n",
    "import seaborn as sns\n",
    "sns.set(style=\"ticks\", color_codes=True)"
   ]
  },
  {
   "cell_type": "code",
   "execution_count": null,
   "metadata": {},
   "outputs": [],
   "source": [
    "df = pd.read_csv('../Test_Dataset/Training_DataSet.csv', header=0)\n",
    "df.head()"
   ]
  },
  {
   "cell_type": "code",
   "execution_count": null,
   "metadata": {},
   "outputs": [],
   "source": [
    "df_xt5 = df[df['VehModel'] == 'XT5']\n"
   ]
  },
  {
   "cell_type": "code",
   "execution_count": null,
   "metadata": {},
   "outputs": [],
   "source": [
    "df_xt5.drop(columns=['VehType', 'VehBodystyle', 'VehFuel', 'VehMake', 'VehModel'], inplace=True)\n",
    "df_xt5.head()"
   ]
  },
  {
   "cell_type": "code",
   "execution_count": null,
   "metadata": {},
   "outputs": [],
   "source": [
    "df_xt5.drop(columns=['SellerIsPriv'], inplace=True) # XT5\n",
    "df_xt5.head()"
   ]
  },
  {
   "cell_type": "code",
   "execution_count": null,
   "metadata": {},
   "outputs": [],
   "source": []
  },
  {
   "cell_type": "code",
   "execution_count": null,
   "metadata": {},
   "outputs": [],
   "source": [
    "df_xt5.info()"
   ]
  },
  {
   "cell_type": "code",
   "execution_count": null,
   "metadata": {},
   "outputs": [],
   "source": [
    "df_xt5.describe()"
   ]
  },
  {
   "cell_type": "code",
   "execution_count": null,
   "metadata": {},
   "outputs": [],
   "source": [
    "df_xt5['VehYear'].value_counts()"
   ]
  },
  {
   "cell_type": "code",
   "execution_count": null,
   "metadata": {},
   "outputs": [],
   "source": [
    "df_xt5['SellerZip'].unique().shape"
   ]
  },
  {
   "cell_type": "code",
   "execution_count": null,
   "metadata": {},
   "outputs": [],
   "source": [
    "df_xt5['VehDriveTrain'].value_counts()"
   ]
  },
  {
   "cell_type": "code",
   "execution_count": null,
   "metadata": {},
   "outputs": [],
   "source": [
    "df_xt5['VehEngine'].value_counts()"
   ]
  },
  {
   "cell_type": "code",
   "execution_count": null,
   "metadata": {},
   "outputs": [],
   "source": [
    "from collections import Counter\n",
    "feature_lst = []\n",
    "for feat in  df_xt5['VehFeats']:\n",
    "    print(feat, type(feat))\n",
    "    if isinstance(feat, str):\n",
    "        feature_lst.extend(feat[1:-1].split(', '))"
   ]
  },
  {
   "cell_type": "code",
   "execution_count": null,
   "metadata": {},
   "outputs": [],
   "source": [
    "Counter(feature_lst).most_common(100)"
   ]
  },
  {
   "cell_type": "code",
   "execution_count": null,
   "metadata": {},
   "outputs": [],
   "source": [
    "len(set(feature_lst))"
   ]
  },
  {
   "cell_type": "code",
   "execution_count": null,
   "metadata": {},
   "outputs": [],
   "source": [
    "df_xt5.shape"
   ]
  },
  {
   "cell_type": "code",
   "execution_count": null,
   "metadata": {},
   "outputs": [],
   "source": [
    "df_xt5['VehHistory'].value_counts()"
   ]
  },
  {
   "cell_type": "code",
   "execution_count": null,
   "metadata": {},
   "outputs": [],
   "source": [
    "history_lst = []\n",
    "for hist in  df_xt5['VehHistory']:\n",
    "    print(hist, type(hist))\n",
    "    if isinstance(hist, str):\n",
    "        history_lst.extend(hist.split(', '))"
   ]
  },
  {
   "cell_type": "code",
   "execution_count": null,
   "metadata": {},
   "outputs": [],
   "source": [
    "Counter(history_lst).most_common(12)"
   ]
  },
  {
   "cell_type": "code",
   "execution_count": null,
   "metadata": {},
   "outputs": [],
   "source": [
    "df_xt5['VehPriceLabel'].value_counts()"
   ]
  },
  {
   "cell_type": "code",
   "execution_count": null,
   "metadata": {},
   "outputs": [],
   "source": [
    "df_xt5['VehSellerNotes'][:5]"
   ]
  },
  {
   "cell_type": "code",
   "execution_count": null,
   "metadata": {},
   "outputs": [],
   "source": [
    "df_xt5.columns"
   ]
  },
  {
   "cell_type": "code",
   "execution_count": null,
   "metadata": {},
   "outputs": [],
   "source": [
    "df_xt5['VehTransmission'].value_counts()"
   ]
  },
  {
   "cell_type": "code",
   "execution_count": null,
   "metadata": {},
   "outputs": [],
   "source": [
    "df_xt5['VehYear'].value_counts()"
   ]
  },
  {
   "cell_type": "code",
   "execution_count": null,
   "metadata": {},
   "outputs": [],
   "source": [
    "df_xt5['Vehicle_Trim'].value_counts()"
   ]
  },
  {
   "cell_type": "code",
   "execution_count": null,
   "metadata": {},
   "outputs": [],
   "source": [
    "cont_cols = ['SellerRating', 'SellerRevCnt', 'VehListdays', 'VehMileage']\n",
    "fig, axs = plt.subplots(ncols=len(cont_cols), nrows=len(cont_cols), figsize=(25,25))\n",
    "for i in range(len(cont_cols)):\n",
    "    for j in range(i+1):\n",
    "        if i == j:\n",
    "            sns.histplot(\n",
    "                data=df_xt5, \n",
    "                x=cont_cols[i], \n",
    "                # hue=\"Dealer_Listing_Price\", \n",
    "                # palette=sns.color_palette(\"tab10\", 3),  \n",
    "                bins=50, \n",
    "                ax=axs[i][i]\n",
    "                )\n",
    "        else:\n",
    "            sns.scatterplot(\n",
    "                x=df_xt5[cont_cols[i]], \n",
    "                y=df_xt5[cont_cols[j]], \n",
    "                hue=df_xt5[\"Dealer_Listing_Price\"], \n",
    "                # palette='dark',\n",
    "                legend=True, \n",
    "                ax=axs[i][j]\n",
    "                )"
   ]
  },
  {
   "cell_type": "code",
   "execution_count": null,
   "metadata": {},
   "outputs": [],
   "source": [
    "cont_cols = ['SellerRating', 'SellerRevCnt', 'VehListdays', 'VehMileage']\n",
    "fig, axs = plt.subplots(ncols=len(cont_cols), nrows=len(cont_cols), figsize=(25,25))\n",
    "for i in range(len(cont_cols)):\n",
    "    for j in range(i+1):\n",
    "        if i == j:\n",
    "            sns.histplot(\n",
    "                data=df_xt5, \n",
    "                x=cont_cols[i], \n",
    "                hue=\"VehPriceLabel\", \n",
    "                palette=sns.color_palette(\"tab10\", 3),  \n",
    "                bins=50, \n",
    "                ax=axs[i][i]\n",
    "                )\n",
    "        else:\n",
    "            sns.scatterplot(\n",
    "                x=df_xt5[cont_cols[i]], \n",
    "                y=df_xt5[cont_cols[j]], \n",
    "                hue=df_xt5[\"VehPriceLabel\"], \n",
    "                palette=sns.color_palette(\"tab10\", 3),\n",
    "                legend=True, \n",
    "                ax=axs[i][j]\n",
    "                )"
   ]
  },
  {
   "cell_type": "code",
   "execution_count": null,
   "metadata": {},
   "outputs": [],
   "source": [
    "df_xt5[\"VehCertified\"].value_counts()"
   ]
  },
  {
   "cell_type": "code",
   "execution_count": null,
   "metadata": {},
   "outputs": [],
   "source": [
    "cont_cols = ['SellerRating', 'SellerRevCnt', 'VehListdays', 'VehMileage']\n",
    "fig, axs = plt.subplots(ncols=len(cont_cols), nrows=len(cont_cols), figsize=(25,25))\n",
    "for i in range(len(cont_cols)):\n",
    "    for j in range(i+1):\n",
    "        if i == j:\n",
    "            sns.histplot(x=df_xt5[cont_cols[i]], bins=20, ax=axs[i][i])\n",
    "        else:\n",
    "            sns.scatterplot(\n",
    "                x=df_xt5[cont_cols[i]], \n",
    "                y=df_xt5[cont_cols[j]], \n",
    "                hue=df_xt5[\"VehCertified\"], \n",
    "                palette=sns.color_palette(\"tab10\", 2),\n",
    "                legend=True, \n",
    "                ax=axs[i][j]\n",
    "                )"
   ]
  },
  {
   "cell_type": "code",
   "execution_count": null,
   "metadata": {},
   "outputs": [],
   "source": [
    "df_xt5[\"VehYear\"].value_counts()"
   ]
  },
  {
   "cell_type": "code",
   "execution_count": null,
   "metadata": {},
   "outputs": [],
   "source": [
    "cont_cols = ['SellerRating', 'SellerRevCnt', 'VehListdays', 'VehMileage']\n",
    "fig, axs = plt.subplots(ncols=len(cont_cols), nrows=len(cont_cols), figsize=(25,25))\n",
    "for i in range(len(cont_cols)):\n",
    "    for j in range(i+1):\n",
    "        if i == j:\n",
    "            sns.histplot(\n",
    "                data=df_xt5, \n",
    "                x=cont_cols[i], \n",
    "                hue=\"VehYear\", \n",
    "                palette=sns.color_palette(\"tab10\", 3),  \n",
    "                bins=50, \n",
    "                ax=axs[i][i]\n",
    "                )\n",
    "        else:\n",
    "            sns.scatterplot(\n",
    "                x=df_xt5[cont_cols[i]], \n",
    "                y=df_xt5[cont_cols[j]], \n",
    "                hue=df_xt5[\"VehYear\"], \n",
    "                palette=sns.color_palette(\"tab10\", 3),\n",
    "                legend=True, \n",
    "                ax=axs[i][j]\n",
    "                )"
   ]
  },
  {
   "cell_type": "code",
   "execution_count": null,
   "metadata": {},
   "outputs": [],
   "source": [
    "df_xt5.isna().sum()"
   ]
  }
 ],
 "metadata": {
  "kernelspec": {
   "display_name": ".venv",
   "language": "python",
   "name": "python3"
  },
  "language_info": {
   "codemirror_mode": {
    "name": "ipython",
    "version": 3
   },
   "file_extension": ".py",
   "mimetype": "text/x-python",
   "name": "python",
   "nbconvert_exporter": "python",
   "pygments_lexer": "ipython3",
   "version": "3.10.12"
  },
  "orig_nbformat": 4
 },
 "nbformat": 4,
 "nbformat_minor": 2
}
